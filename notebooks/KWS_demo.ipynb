{
  "cells": [
    {
      "cell_type": "markdown",
      "id": "DCvDgFUyl9QF",
      "metadata": {
        "id": "DCvDgFUyl9QF"
      },
      "source": [
        "# KWS Demo "
      ]
    },
    {
      "cell_type": "code",
      "source": [
        "#@title Importing useful libraries\n",
        "!pip install -q python_speech_features \n",
        "!pip install -q https://github.com/tugstugi/dl-colab-notebooks/archive/colab_utils.zip\n",
        "\n",
        "import os \n",
        "import sys\n",
        "import json  \n",
        "import time\n",
        "from   datetime                import date\n",
        "\n",
        "from collections import Counter\n",
        "import pandas                  as pd\n",
        "import numpy                   as np \n",
        "import matplotlib.pyplot       as plt  \n",
        "import seaborn                 as sn\n",
        "from sklearn.metrics import confusion_matrix, accuracy_score\n",
        "\n",
        "import tensorflow              as tf\n",
        "from   tensorflow              import keras\n",
        "from   tensorflow.keras        import layers, Input, backend\n",
        "from   tensorflow.keras.layers import Dense, Activation, ZeroPadding2D, BatchNormalization, Conv2D, Permute\n",
        "from   tensorflow.keras.layers import Lambda, Bidirectional, LSTM, GRU, Dot, Softmax\n",
        "from   tensorflow.keras.models import Model\n",
        "\n",
        "from   scipy.io                import wavfile\n",
        "from   python_speech_features  import mfcc, logfbank\n",
        "import wave \n",
        "\n",
        "import itertools\n",
        "import cProfile\n",
        "from IPython.display            import Audio, display, clear_output\n",
        "\n",
        "# Colab and Drive Libraries\n",
        "from   google.colab            import drive\n",
        "\n",
        "# imports for uploading/recording\n",
        "import ipywidgets as widgets\n",
        "from dl_colab_notebooks.audio import record_audio, upload_audio\n",
        "\n",
        "import warnings\n",
        "warnings.filterwarnings(\"ignore\")\n",
        "\n",
        "drive.mount('/content/drive') # to attempt to forcibly remount -> force_remount=True\n",
        "\n",
        "# # paths\n",
        "FRA_PATH, FEDE_PATH = \"/content/drive/MyDrive/University/HDA/HDA_Project/project\", \"/content/drive/MyDrive/project\"\n",
        "\n",
        "# # Setting the working directory \n",
        "# os.chdir(FRA_PATH)\n",
        "os.chdir(FEDE_PATH)\n",
        "\n",
        "\n",
        "LABELS_35_CLASSES = {\"Backward\":0, \"Bed\":1, \"Bird\":2, \"Cat\":3, \"Dog\":4, \"Down\":5, \"Eight\":6, \"Five\":7, \"Follow\":8, \"Forward\":9, \"Four\":10, \"Go\":11, \"Happy\":12, \"House\":13, \"Learn\":14, \"Left\":15, \"Marvin\":16, \"Nine\":17, \"No\":18, \"Off\":19, \"On\":20, \"One\":21, \"Right\":22, \"Seven\":23, \"Sheila\":24, \"Six\":25, \"Stop\":26, \"Three\":27, \"Tree\":28, \"Two\":29, \"Up\":30, \"Visual\":31, \"Wow\":32, \"Yes\":33, \"Zero\":34}"
      ],
      "metadata": {
        "id": "c7cwLpAlt8iY",
        "cellView": "form"
      },
      "id": "c7cwLpAlt8iY",
      "execution_count": null,
      "outputs": []
    },
    {
      "cell_type": "code",
      "source": [
        "#@title Either record audio from microphone or upload audio from .wav file  { run: \"auto\" }\n",
        "\n",
        "SAMPLE_RATE = 16000\n",
        "record_or_upload = \"Record\" #@param [\"Record\", \"Upload\"]\n",
        "architecture =  \"AttCNN+RNN\"  #@param [\"CNN\", \"CNN+RNN\", \"AttCNN+RNN\"]\n",
        "\n",
        "\n",
        "def _recognize(audio):\n",
        "  display(Audio(audio, rate=SAMPLE_RATE, autoplay=True)) \n",
        "  audio.resize(SAMPLE_RATE, refcheck=False)\n",
        "  mfccs = mfcc(audio, samplerate = SAMPLE_RATE, winlen = 0.025, winstep = 0.01, numcep = 13, nfilt=40)\n",
        "  mfccs = np.array(mfccs).T\n",
        "  mfccs = np.expand_dims(mfccs, axis=0)\n",
        "  X_example = np.expand_dims(mfccs, axis=3)\n",
        "  if architecture == \"AttCNN+RNN\":\n",
        "    model = keras.models.load_model('models/att_lstm_model_complete.h5')\n",
        "  elif architecture == \"CNN+RNN\":\n",
        "    model = keras.models.load_model('models/lstm_model_complete.h5')\n",
        "  else:\n",
        "    model = keras.models.load_model('models/m_conv2d_n_dense_models/best_flexible_cnn_architecture_model_no_5.h5')\n",
        "  print(\"Detecting the keyword...\")\n",
        "  y =  np.argmax(model.predict(X_example),1)\n",
        "  y = int(y)\n",
        "  print(\"Finish!\")\n",
        "  plt.style.use(['dark_background', 'bmh'])\n",
        "  plt.rc('axes', facecolor='k')\n",
        "  plt.rc('figure', facecolor='k')\n",
        "  plt.rc('figure', figsize=(8,2), dpi=100)\n",
        "  plt.plot(audio)\n",
        "  plt.title(\"The word is: \" + list(LABELS_35_CLASSES.keys())[y].upper(), fontsize=20)\n",
        "  plt.xlabel('Sample index')\n",
        "  plt.ylabel('Amplitude')\n",
        "  plt.tight_layout()\n",
        "\n",
        "\n",
        "def _record_audio(b):\n",
        "  clear_output()\n",
        "  audio = record_audio(1, sample_rate=SAMPLE_RATE)\n",
        "  _recognize(audio)\n",
        "\n",
        "def _upload_audio(b):\n",
        "  clear_output()\n",
        "  audio = upload_audio(sample_rate=SAMPLE_RATE)\n",
        "  _recognize(audio)\n",
        "\n",
        "\n",
        "if record_or_upload == \"Record\":\n",
        "  button = widgets.Button(description=\"Record Speech\")\n",
        "  button.on_click(_record_audio)\n",
        "  display(button)\n",
        "else:\n",
        "  _upload_audio(\"\")"
      ],
      "metadata": {
        "colab": {
          "base_uri": "https://localhost:8080/",
          "height": 49,
          "referenced_widgets": [
            "3bcba69cc4864286a35490b828807319",
            "2e5ad25e61164f20b32bd3f3681b7e14",
            "8a41b77bf2434b8b9d00c507a4e7306c"
          ]
        },
        "id": "-G82EaKC8PVK",
        "outputId": "b8bba2b3-a03a-4685-9157-b8dc94904e79",
        "cellView": "form"
      },
      "id": "-G82EaKC8PVK",
      "execution_count": 12,
      "outputs": [
        {
          "output_type": "display_data",
          "data": {
            "text/plain": [
              "Button(description='Record Speech', style=ButtonStyle())"
            ],
            "application/vnd.jupyter.widget-view+json": {
              "version_major": 2,
              "version_minor": 0,
              "model_id": "3bcba69cc4864286a35490b828807319"
            }
          },
          "metadata": {}
        }
      ]
    }
  ],
  "metadata": {
    "accelerator": "GPU",
    "colab": {
      "collapsed_sections": [],
      "name": "KWS_demo.ipynb",
      "provenance": []
    },
    "kernelspec": {
      "display_name": "Python 3",
      "language": "python",
      "name": "python3"
    },
    "language_info": {
      "codemirror_mode": {
        "name": "ipython",
        "version": 3
      },
      "file_extension": ".py",
      "mimetype": "text/x-python",
      "name": "python",
      "nbconvert_exporter": "python",
      "pygments_lexer": "ipython3",
      "version": "3.8.8"
    },
    "widgets": {
      "application/vnd.jupyter.widget-state+json": {
        "3bcba69cc4864286a35490b828807319": {
          "model_module": "@jupyter-widgets/controls",
          "model_name": "ButtonModel",
          "model_module_version": "1.5.0",
          "state": {
            "_dom_classes": [],
            "_model_module": "@jupyter-widgets/controls",
            "_model_module_version": "1.5.0",
            "_model_name": "ButtonModel",
            "_view_count": null,
            "_view_module": "@jupyter-widgets/controls",
            "_view_module_version": "1.5.0",
            "_view_name": "ButtonView",
            "button_style": "",
            "description": "Record Speech",
            "disabled": false,
            "icon": "",
            "layout": "IPY_MODEL_2e5ad25e61164f20b32bd3f3681b7e14",
            "style": "IPY_MODEL_8a41b77bf2434b8b9d00c507a4e7306c",
            "tooltip": ""
          }
        },
        "2e5ad25e61164f20b32bd3f3681b7e14": {
          "model_module": "@jupyter-widgets/base",
          "model_name": "LayoutModel",
          "model_module_version": "1.2.0",
          "state": {
            "_model_module": "@jupyter-widgets/base",
            "_model_module_version": "1.2.0",
            "_model_name": "LayoutModel",
            "_view_count": null,
            "_view_module": "@jupyter-widgets/base",
            "_view_module_version": "1.2.0",
            "_view_name": "LayoutView",
            "align_content": null,
            "align_items": null,
            "align_self": null,
            "border": null,
            "bottom": null,
            "display": null,
            "flex": null,
            "flex_flow": null,
            "grid_area": null,
            "grid_auto_columns": null,
            "grid_auto_flow": null,
            "grid_auto_rows": null,
            "grid_column": null,
            "grid_gap": null,
            "grid_row": null,
            "grid_template_areas": null,
            "grid_template_columns": null,
            "grid_template_rows": null,
            "height": null,
            "justify_content": null,
            "justify_items": null,
            "left": null,
            "margin": null,
            "max_height": null,
            "max_width": null,
            "min_height": null,
            "min_width": null,
            "object_fit": null,
            "object_position": null,
            "order": null,
            "overflow": null,
            "overflow_x": null,
            "overflow_y": null,
            "padding": null,
            "right": null,
            "top": null,
            "visibility": null,
            "width": null
          }
        },
        "8a41b77bf2434b8b9d00c507a4e7306c": {
          "model_module": "@jupyter-widgets/controls",
          "model_name": "ButtonStyleModel",
          "model_module_version": "1.5.0",
          "state": {
            "_model_module": "@jupyter-widgets/controls",
            "_model_module_version": "1.5.0",
            "_model_name": "ButtonStyleModel",
            "_view_count": null,
            "_view_module": "@jupyter-widgets/base",
            "_view_module_version": "1.2.0",
            "_view_name": "StyleView",
            "button_color": null,
            "font_weight": ""
          }
        }
      }
    }
  },
  "nbformat": 4,
  "nbformat_minor": 5
}